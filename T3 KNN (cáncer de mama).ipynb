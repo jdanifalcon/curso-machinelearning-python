{
  "nbformat": 4,
  "nbformat_minor": 0,
  "metadata": {
    "colab": {
      "name": "cancer_mamaT03.ipynb",
      "provenance": [],
      "authorship_tag": "ABX9TyPEPGjy6EuIistTS9sVmla+",
      "include_colab_link": true
    },
    "kernelspec": {
      "name": "python3",
      "display_name": "Python 3"
    },
    "language_info": {
      "name": "python"
    }
  },
  "cells": [
    {
      "cell_type": "markdown",
      "metadata": {
        "id": "view-in-github",
        "colab_type": "text"
      },
      "source": [
        "<a href=\"https://colab.research.google.com/github/jdanifalcon/curso-machinelearning-python/blob/main/T3%20KNN%20(c%C3%A1ncer%20de%20mama).ipynb\" target=\"_parent\"><img src=\"https://colab.research.google.com/assets/colab-badge.svg\" alt=\"Open In Colab\"/></a>"
      ]
    },
    {
      "cell_type": "markdown",
      "metadata": {
        "id": "yCFjazCHMWYr"
      },
      "source": [
        "Crea **un clasificador KNN** DE TODO EL DATA SET para predecir si es benigno o maligno. Medir su **AUC** mediante validación cruzada con cv=10\n",
        "\n"
      ]
    },
    {
      "cell_type": "code",
      "metadata": {
        "id": "3ng63nilJr9V"
      },
      "source": [
        "import pandas as pd\n",
        "import numpy as np\n",
        "from sklearn import datasets"
      ],
      "execution_count": 1,
      "outputs": []
    },
    {
      "cell_type": "code",
      "metadata": {
        "colab": {
          "base_uri": "https://localhost:8080/"
        },
        "id": "MYrucVAMLvpt",
        "outputId": "9e5b7b9f-f2a8-4a01-8a3a-70d4269306d8"
      },
      "source": [
        "cancer_datos = datasets.load_breast_cancer()\n",
        "cancer_datos.keys()"
      ],
      "execution_count": 2,
      "outputs": [
        {
          "output_type": "execute_result",
          "data": {
            "text/plain": [
              "dict_keys(['data', 'target', 'target_names', 'DESCR', 'feature_names', 'filename'])"
            ]
          },
          "metadata": {
            "tags": []
          },
          "execution_count": 2
        }
      ]
    },
    {
      "cell_type": "code",
      "metadata": {
        "id": "ZRDC6SLJLvx2"
      },
      "source": [
        "cancer_df = pd.DataFrame(cancer_datos[\"data\"],\n",
        "                           columns=cancer_datos[\"feature_names\"]\n",
        "                          )\n",
        "\n",
        "cancer_df[\"objetivo\"] = cancer_datos[\"target\"]"
      ],
      "execution_count": 3,
      "outputs": []
    },
    {
      "cell_type": "code",
      "metadata": {
        "colab": {
          "base_uri": "https://localhost:8080/",
          "height": 257
        },
        "id": "r1EqMvrpLv0M",
        "outputId": "00a9375e-7a8e-4702-8169-cdfd0a0a073f"
      },
      "source": [
        "cancer_df.head()"
      ],
      "execution_count": 4,
      "outputs": [
        {
          "output_type": "execute_result",
          "data": {
            "text/html": [
              "<div>\n",
              "<style scoped>\n",
              "    .dataframe tbody tr th:only-of-type {\n",
              "        vertical-align: middle;\n",
              "    }\n",
              "\n",
              "    .dataframe tbody tr th {\n",
              "        vertical-align: top;\n",
              "    }\n",
              "\n",
              "    .dataframe thead th {\n",
              "        text-align: right;\n",
              "    }\n",
              "</style>\n",
              "<table border=\"1\" class=\"dataframe\">\n",
              "  <thead>\n",
              "    <tr style=\"text-align: right;\">\n",
              "      <th></th>\n",
              "      <th>mean radius</th>\n",
              "      <th>mean texture</th>\n",
              "      <th>mean perimeter</th>\n",
              "      <th>mean area</th>\n",
              "      <th>mean smoothness</th>\n",
              "      <th>mean compactness</th>\n",
              "      <th>mean concavity</th>\n",
              "      <th>mean concave points</th>\n",
              "      <th>mean symmetry</th>\n",
              "      <th>mean fractal dimension</th>\n",
              "      <th>radius error</th>\n",
              "      <th>texture error</th>\n",
              "      <th>perimeter error</th>\n",
              "      <th>area error</th>\n",
              "      <th>smoothness error</th>\n",
              "      <th>compactness error</th>\n",
              "      <th>concavity error</th>\n",
              "      <th>concave points error</th>\n",
              "      <th>symmetry error</th>\n",
              "      <th>fractal dimension error</th>\n",
              "      <th>worst radius</th>\n",
              "      <th>worst texture</th>\n",
              "      <th>worst perimeter</th>\n",
              "      <th>worst area</th>\n",
              "      <th>worst smoothness</th>\n",
              "      <th>worst compactness</th>\n",
              "      <th>worst concavity</th>\n",
              "      <th>worst concave points</th>\n",
              "      <th>worst symmetry</th>\n",
              "      <th>worst fractal dimension</th>\n",
              "      <th>objetivo</th>\n",
              "    </tr>\n",
              "  </thead>\n",
              "  <tbody>\n",
              "    <tr>\n",
              "      <th>0</th>\n",
              "      <td>17.99</td>\n",
              "      <td>10.38</td>\n",
              "      <td>122.80</td>\n",
              "      <td>1001.0</td>\n",
              "      <td>0.11840</td>\n",
              "      <td>0.27760</td>\n",
              "      <td>0.3001</td>\n",
              "      <td>0.14710</td>\n",
              "      <td>0.2419</td>\n",
              "      <td>0.07871</td>\n",
              "      <td>1.0950</td>\n",
              "      <td>0.9053</td>\n",
              "      <td>8.589</td>\n",
              "      <td>153.40</td>\n",
              "      <td>0.006399</td>\n",
              "      <td>0.04904</td>\n",
              "      <td>0.05373</td>\n",
              "      <td>0.01587</td>\n",
              "      <td>0.03003</td>\n",
              "      <td>0.006193</td>\n",
              "      <td>25.38</td>\n",
              "      <td>17.33</td>\n",
              "      <td>184.60</td>\n",
              "      <td>2019.0</td>\n",
              "      <td>0.1622</td>\n",
              "      <td>0.6656</td>\n",
              "      <td>0.7119</td>\n",
              "      <td>0.2654</td>\n",
              "      <td>0.4601</td>\n",
              "      <td>0.11890</td>\n",
              "      <td>0</td>\n",
              "    </tr>\n",
              "    <tr>\n",
              "      <th>1</th>\n",
              "      <td>20.57</td>\n",
              "      <td>17.77</td>\n",
              "      <td>132.90</td>\n",
              "      <td>1326.0</td>\n",
              "      <td>0.08474</td>\n",
              "      <td>0.07864</td>\n",
              "      <td>0.0869</td>\n",
              "      <td>0.07017</td>\n",
              "      <td>0.1812</td>\n",
              "      <td>0.05667</td>\n",
              "      <td>0.5435</td>\n",
              "      <td>0.7339</td>\n",
              "      <td>3.398</td>\n",
              "      <td>74.08</td>\n",
              "      <td>0.005225</td>\n",
              "      <td>0.01308</td>\n",
              "      <td>0.01860</td>\n",
              "      <td>0.01340</td>\n",
              "      <td>0.01389</td>\n",
              "      <td>0.003532</td>\n",
              "      <td>24.99</td>\n",
              "      <td>23.41</td>\n",
              "      <td>158.80</td>\n",
              "      <td>1956.0</td>\n",
              "      <td>0.1238</td>\n",
              "      <td>0.1866</td>\n",
              "      <td>0.2416</td>\n",
              "      <td>0.1860</td>\n",
              "      <td>0.2750</td>\n",
              "      <td>0.08902</td>\n",
              "      <td>0</td>\n",
              "    </tr>\n",
              "    <tr>\n",
              "      <th>2</th>\n",
              "      <td>19.69</td>\n",
              "      <td>21.25</td>\n",
              "      <td>130.00</td>\n",
              "      <td>1203.0</td>\n",
              "      <td>0.10960</td>\n",
              "      <td>0.15990</td>\n",
              "      <td>0.1974</td>\n",
              "      <td>0.12790</td>\n",
              "      <td>0.2069</td>\n",
              "      <td>0.05999</td>\n",
              "      <td>0.7456</td>\n",
              "      <td>0.7869</td>\n",
              "      <td>4.585</td>\n",
              "      <td>94.03</td>\n",
              "      <td>0.006150</td>\n",
              "      <td>0.04006</td>\n",
              "      <td>0.03832</td>\n",
              "      <td>0.02058</td>\n",
              "      <td>0.02250</td>\n",
              "      <td>0.004571</td>\n",
              "      <td>23.57</td>\n",
              "      <td>25.53</td>\n",
              "      <td>152.50</td>\n",
              "      <td>1709.0</td>\n",
              "      <td>0.1444</td>\n",
              "      <td>0.4245</td>\n",
              "      <td>0.4504</td>\n",
              "      <td>0.2430</td>\n",
              "      <td>0.3613</td>\n",
              "      <td>0.08758</td>\n",
              "      <td>0</td>\n",
              "    </tr>\n",
              "    <tr>\n",
              "      <th>3</th>\n",
              "      <td>11.42</td>\n",
              "      <td>20.38</td>\n",
              "      <td>77.58</td>\n",
              "      <td>386.1</td>\n",
              "      <td>0.14250</td>\n",
              "      <td>0.28390</td>\n",
              "      <td>0.2414</td>\n",
              "      <td>0.10520</td>\n",
              "      <td>0.2597</td>\n",
              "      <td>0.09744</td>\n",
              "      <td>0.4956</td>\n",
              "      <td>1.1560</td>\n",
              "      <td>3.445</td>\n",
              "      <td>27.23</td>\n",
              "      <td>0.009110</td>\n",
              "      <td>0.07458</td>\n",
              "      <td>0.05661</td>\n",
              "      <td>0.01867</td>\n",
              "      <td>0.05963</td>\n",
              "      <td>0.009208</td>\n",
              "      <td>14.91</td>\n",
              "      <td>26.50</td>\n",
              "      <td>98.87</td>\n",
              "      <td>567.7</td>\n",
              "      <td>0.2098</td>\n",
              "      <td>0.8663</td>\n",
              "      <td>0.6869</td>\n",
              "      <td>0.2575</td>\n",
              "      <td>0.6638</td>\n",
              "      <td>0.17300</td>\n",
              "      <td>0</td>\n",
              "    </tr>\n",
              "    <tr>\n",
              "      <th>4</th>\n",
              "      <td>20.29</td>\n",
              "      <td>14.34</td>\n",
              "      <td>135.10</td>\n",
              "      <td>1297.0</td>\n",
              "      <td>0.10030</td>\n",
              "      <td>0.13280</td>\n",
              "      <td>0.1980</td>\n",
              "      <td>0.10430</td>\n",
              "      <td>0.1809</td>\n",
              "      <td>0.05883</td>\n",
              "      <td>0.7572</td>\n",
              "      <td>0.7813</td>\n",
              "      <td>5.438</td>\n",
              "      <td>94.44</td>\n",
              "      <td>0.011490</td>\n",
              "      <td>0.02461</td>\n",
              "      <td>0.05688</td>\n",
              "      <td>0.01885</td>\n",
              "      <td>0.01756</td>\n",
              "      <td>0.005115</td>\n",
              "      <td>22.54</td>\n",
              "      <td>16.67</td>\n",
              "      <td>152.20</td>\n",
              "      <td>1575.0</td>\n",
              "      <td>0.1374</td>\n",
              "      <td>0.2050</td>\n",
              "      <td>0.4000</td>\n",
              "      <td>0.1625</td>\n",
              "      <td>0.2364</td>\n",
              "      <td>0.07678</td>\n",
              "      <td>0</td>\n",
              "    </tr>\n",
              "  </tbody>\n",
              "</table>\n",
              "</div>"
            ],
            "text/plain": [
              "   mean radius  mean texture  ...  worst fractal dimension  objetivo\n",
              "0        17.99         10.38  ...                  0.11890         0\n",
              "1        20.57         17.77  ...                  0.08902         0\n",
              "2        19.69         21.25  ...                  0.08758         0\n",
              "3        11.42         20.38  ...                  0.17300         0\n",
              "4        20.29         14.34  ...                  0.07678         0\n",
              "\n",
              "[5 rows x 31 columns]"
            ]
          },
          "metadata": {
            "tags": []
          },
          "execution_count": 4
        }
      ]
    },
    {
      "cell_type": "code",
      "metadata": {
        "colab": {
          "base_uri": "https://localhost:8080/"
        },
        "id": "a4HiACRPLv2O",
        "outputId": "f17e98c8-a7b0-4d56-fbda-f5367bda813a"
      },
      "source": [
        "cancer_df.columns"
      ],
      "execution_count": 5,
      "outputs": [
        {
          "output_type": "execute_result",
          "data": {
            "text/plain": [
              "Index(['mean radius', 'mean texture', 'mean perimeter', 'mean area',\n",
              "       'mean smoothness', 'mean compactness', 'mean concavity',\n",
              "       'mean concave points', 'mean symmetry', 'mean fractal dimension',\n",
              "       'radius error', 'texture error', 'perimeter error', 'area error',\n",
              "       'smoothness error', 'compactness error', 'concavity error',\n",
              "       'concave points error', 'symmetry error', 'fractal dimension error',\n",
              "       'worst radius', 'worst texture', 'worst perimeter', 'worst area',\n",
              "       'worst smoothness', 'worst compactness', 'worst concavity',\n",
              "       'worst concave points', 'worst symmetry', 'worst fractal dimension',\n",
              "       'objetivo'],\n",
              "      dtype='object')"
            ]
          },
          "metadata": {
            "tags": []
          },
          "execution_count": 5
        }
      ]
    },
    {
      "cell_type": "code",
      "metadata": {
        "id": "pCC5fmrYLv4R"
      },
      "source": [
        "variable_objetivo_clasificacion = \"objetivo\"\n",
        "variables_independientes_clasificacion = cancer_df.drop(\n",
        "    variable_objetivo_clasificacion, axis=1).columns"
      ],
      "execution_count": 6,
      "outputs": []
    },
    {
      "cell_type": "code",
      "metadata": {
        "id": "dpVEGYBeLv6O"
      },
      "source": [
        "from sklearn.metrics import roc_auc_score\n",
        "from sklearn.neighbors import KNeighborsRegressor\n",
        "from sklearn.model_selection import cross_val_score"
      ],
      "execution_count": 7,
      "outputs": []
    },
    {
      "cell_type": "code",
      "metadata": {
        "colab": {
          "base_uri": "https://localhost:8080/"
        },
        "id": "Ye8Pec-BLv8R",
        "outputId": "63fb8cb2-9321-4913-eb5a-f7c19740b02d"
      },
      "source": [
        "regresor_knn = KNeighborsRegressor(n_neighbors=10, weights=\"uniform\")\n",
        "\n",
        "regresor_knn.fit(cancer_df[variables_independientes_clasificacion], cancer_df[\"objetivo\"])"
      ],
      "execution_count": 8,
      "outputs": [
        {
          "output_type": "execute_result",
          "data": {
            "text/plain": [
              "KNeighborsRegressor(algorithm='auto', leaf_size=30, metric='minkowski',\n",
              "                    metric_params=None, n_jobs=None, n_neighbors=10, p=2,\n",
              "                    weights='uniform')"
            ]
          },
          "metadata": {
            "tags": []
          },
          "execution_count": 8
        }
      ]
    },
    {
      "cell_type": "code",
      "metadata": {
        "colab": {
          "base_uri": "https://localhost:8080/"
        },
        "id": "ZCJOZwemLv-2",
        "outputId": "802d59df-2fcc-47fd-b5e8-3f57b3a52717"
      },
      "source": [
        "preds = regresor_knn.predict(cancer_df[variables_independientes_clasificacion])\n",
        "preds"
      ],
      "execution_count": 9,
      "outputs": [
        {
          "output_type": "execute_result",
          "data": {
            "text/plain": [
              "array([0. , 0. , 0. , 0.9, 0. , 0.3, 0. , 0.3, 0.4, 0.3, 0. , 0. , 0. ,\n",
              "       0.5, 0.9, 0.1, 0. , 0. , 0. , 1. , 1. , 1. , 0.1, 0. , 0. , 0. ,\n",
              "       0.6, 0. , 0. , 0.1, 0. , 0.1, 0. , 0. , 0. , 0. , 0.6, 1. , 0.8,\n",
              "       0.6, 0.3, 0.8, 0. , 0.1, 0.5, 0. , 1. , 0.4, 0.9, 1. , 1. , 1. ,\n",
              "       1. , 0. , 0. , 1. , 0. , 0. , 1. , 1. , 1. , 1. , 0.1, 1. , 0.1,\n",
              "       0.2, 1. , 1. , 1. , 1. , 0. , 1. , 0. , 0.4, 1. , 0. , 1. , 0. ,\n",
              "       0. , 1. , 1. , 1. , 0. , 0. , 1. , 0. , 0.7, 0. , 1. , 0.6, 0.8,\n",
              "       0.8, 0.2, 1. , 0. , 0. , 1. , 1. , 1. , 0.7, 0.3, 1. , 1. , 1. ,\n",
              "       1. , 0.1, 1. , 1. , 0. , 1. , 1. , 1. , 0.9, 1. , 1. , 0.9, 1. ,\n",
              "       0. , 0. , 0.1, 1. , 0. , 0. , 0.8, 1. , 1. , 0.3, 0. , 0.8, 0. ,\n",
              "       1. , 0. , 0. , 0.3, 0. , 0.9, 0.9, 1. , 0. , 1. , 1. , 0. , 1. ,\n",
              "       0.9, 1. , 1. , 0.9, 0.9, 0.7, 1. , 1. , 1. , 1. , 1. , 1. , 1. ,\n",
              "       0. , 0.2, 1. , 1. , 0.9, 0. , 0. , 1. , 0. , 0.9, 1. , 0. , 0. ,\n",
              "       0.9, 1. , 0. , 0. , 1. , 1. , 1. , 1. , 0.5, 1. , 1. , 0. , 0. ,\n",
              "       0. , 1. , 0.1, 1. , 0. , 1. , 1. , 1. , 0.6, 1. , 1. , 0.1, 0.9,\n",
              "       1. , 0.3, 0.1, 0. , 0. , 1. , 0.1, 0. , 0. , 0.7, 0.1, 1. , 0. ,\n",
              "       1. , 0.3, 0. , 1. , 0. , 0.3, 0.3, 0.8, 1. , 1. , 0. , 0. , 1. ,\n",
              "       1. , 1. , 0. , 1. , 0.7, 1. , 0.8, 1. , 0.5, 0. , 1. , 1. , 0. ,\n",
              "       1. , 1. , 0. , 0. , 0.7, 0. , 1. , 1. , 1. , 0.9, 0. , 1. , 1. ,\n",
              "       1. , 1. , 1. , 0. , 1. , 0. , 0.1, 0. , 0.3, 0. , 0.2, 0. , 0. ,\n",
              "       0. , 0.1, 0. , 0.2, 0. , 0. , 1. , 1. , 1. , 1. , 0.9, 1. , 0. ,\n",
              "       1. , 0. , 1. , 1. , 0.1, 0.8, 1. , 0. , 1. , 0. , 0.2, 1. , 1. ,\n",
              "       1. , 1. , 1. , 1. , 0.8, 0.9, 1. , 1. , 1. , 1. , 1. , 0.9, 0.6,\n",
              "       1. , 0. , 1. , 0. , 1. , 1. , 1. , 1. , 1. , 1. , 1. , 1. , 0.8,\n",
              "       1. , 1. , 1. , 1. , 1. , 0. , 1. , 1. , 1. , 0. , 1. , 0. , 1. ,\n",
              "       1. , 0.8, 1. , 0. , 0.5, 0.1, 1. , 1. , 1. , 1. , 0. , 1. , 0. ,\n",
              "       1. , 0. , 0.8, 1. , 1. , 0. , 1. , 1. , 1. , 0.8, 1. , 1. , 1. ,\n",
              "       0.3, 0. , 0. , 1. , 1. , 1. , 0.9, 1. , 1. , 1. , 1. , 1. , 0.3,\n",
              "       1. , 0. , 0. , 1. , 0. , 0. , 0. , 0.8, 0. , 0. , 1. , 0.5, 1. ,\n",
              "       1. , 1. , 0.8, 1. , 1. , 1. , 1. , 1. , 0.8, 1. , 0.8, 1. , 0. ,\n",
              "       1. , 1. , 0. , 0. , 1. , 1. , 1. , 1. , 0.8, 1. , 0. , 0.9, 1. ,\n",
              "       1. , 1. , 1. , 0.4, 0.9, 0. , 1. , 1. , 1. , 1. , 0.9, 0.3, 1. ,\n",
              "       1. , 0. , 1. , 1. , 1. , 0.7, 1. , 0.9, 1. , 1. , 1. , 0.8, 1. ,\n",
              "       1. , 0.9, 1. , 0. , 0. , 0.8, 0.4, 1. , 0.7, 0.8, 1. , 1. , 0. ,\n",
              "       1. , 1. , 0. , 1. , 0. , 0.9, 0.8, 0. , 1. , 0. , 1. , 0.8, 1. ,\n",
              "       0.9, 1. , 1. , 1. , 1. , 0. , 0. , 0.8, 1. , 1. , 0.6, 1. , 1. ,\n",
              "       0. , 1. , 1. , 0.9, 0.5, 1. , 1. , 1. , 0.4, 1. , 1. , 0.4, 1. ,\n",
              "       0.3, 1. , 1. , 0.6, 1. , 0.8, 0. , 1. , 0.2, 1. , 0.1, 0. , 1. ,\n",
              "       1. , 0.9, 1. , 1. , 0. , 0. , 0.9, 0.3, 1. , 0. , 1. , 1. , 1. ,\n",
              "       1. , 0.5, 0.4, 1. , 0.8, 0.2, 1. , 0.1, 1. , 0. , 0. , 0.7, 1. ,\n",
              "       1. , 0. , 1. , 0.9, 1. , 1. , 0.9, 1. , 1. , 1. , 0.9, 1. , 0.4,\n",
              "       0. , 1. , 0. , 0.9, 1. , 1. , 1. , 1. , 0.7, 0.8, 1. , 0.9, 0.8,\n",
              "       1. , 1. , 1. , 0.8, 1. , 1. , 1. , 1. , 1. , 1. , 1. , 1. , 0.8,\n",
              "       1. , 0.9, 1. , 0.4, 0. , 0. , 0. , 0.1, 0. , 1. ])"
            ]
          },
          "metadata": {
            "tags": []
          },
          "execution_count": 9
        }
      ]
    },
    {
      "cell_type": "code",
      "metadata": {
        "colab": {
          "base_uri": "https://localhost:8080/"
        },
        "id": "Nz6sQpfrLwAV",
        "outputId": "cc569988-73a4-421b-fb92-90181cf16279"
      },
      "source": [
        "from sklearn.metrics import mean_squared_error\n",
        "np.sqrt(np.abs(mean_squared_error(cancer_df[\"objetivo\"], preds)))"
      ],
      "execution_count": 10,
      "outputs": [
        {
          "output_type": "execute_result",
          "data": {
            "text/plain": [
              "0.21057290669360082"
            ]
          },
          "metadata": {
            "tags": []
          },
          "execution_count": 10
        }
      ]
    },
    {
      "cell_type": "code",
      "metadata": {
        "colab": {
          "base_uri": "https://localhost:8080/"
        },
        "id": "EZ6ltG6OMJVG",
        "outputId": "93b2510b-3092-4543-f278-ba5b4aad3523"
      },
      "source": [
        "roc_auc_score(cancer_df[\"objetivo\"], preds, average=\"micro\")"
      ],
      "execution_count": 11,
      "outputs": [
        {
          "output_type": "execute_result",
          "data": {
            "text/plain": [
              "0.9862718672374611"
            ]
          },
          "metadata": {
            "tags": []
          },
          "execution_count": 11
        }
      ]
    },
    {
      "cell_type": "code",
      "metadata": {
        "colab": {
          "base_uri": "https://localhost:8080/"
        },
        "id": "To0t61cZMJZ-",
        "outputId": "03f8004a-8c0a-4ab9-e61c-fad92a45b032"
      },
      "source": [
        "error_validacion_cruzada_clasificacion = np.sqrt(np.abs(\n",
        "    cross_val_score(KNeighborsRegressor(n_neighbors=2,\n",
        "                                         weights=\"uniform\"), \n",
        "                X=cancer_df[variables_independientes_clasificacion],\n",
        "               y=cancer_df[\"objetivo\"], \n",
        "               scoring=\"roc_auc\",\n",
        "                    cv = 10\n",
        "        ).mean()\n",
        "      )\n",
        ")\n",
        "print(\"El área bajo la curva roc en este dataset es {:.2f}\".format(\n",
        "    error_validacion_cruzada_clasificacion))"
      ],
      "execution_count": 12,
      "outputs": [
        {
          "output_type": "stream",
          "text": [
            "El área bajo la curva roc en este dataset es 0.97\n"
          ],
          "name": "stdout"
        }
      ]
    }
  ]
}